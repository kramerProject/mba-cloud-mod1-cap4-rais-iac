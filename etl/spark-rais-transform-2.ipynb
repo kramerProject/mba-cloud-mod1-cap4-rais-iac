{
 "cells": [
  {
   "cell_type": "code",
   "execution_count": 1,
   "id": "60364718-ac60-4eb9-b587-d311d13a9099",
   "metadata": {
    "execution": {
     "iopub.execute_input": "2023-01-30T22:12:56.162367Z",
     "iopub.status.busy": "2023-01-30T22:12:56.162145Z",
     "iopub.status.idle": "2023-01-30T22:13:27.295277Z",
     "shell.execute_reply": "2023-01-30T22:13:27.294544Z",
     "shell.execute_reply.started": "2023-01-30T22:12:56.162341Z"
    }
   },
   "outputs": [
    {
     "data": {
      "application/vnd.jupyter.widget-view+json": {
       "model_id": "f6fcfb4d33814c8ba9065c78f362b71c",
       "version_major": 2,
       "version_minor": 0
      },
      "text/plain": [
       "VBox()"
      ]
     },
     "metadata": {},
     "output_type": "display_data"
    },
    {
     "name": "stdout",
     "output_type": "stream",
     "text": [
      "Starting Spark application\n"
     ]
    },
    {
     "data": {
      "text/html": [
       "<table>\n",
       "<tr><th>ID</th><th>YARN Application ID</th><th>Kind</th><th>State</th><th>Spark UI</th><th>Driver log</th><th>Current session?</th></tr><tr><td>0</td><td>application_1675115742341_0002</td><td>pyspark</td><td>idle</td><td><a target=\"_blank\" href=\"http://ip-172-31-20-137.ec2.internal:20888/proxy/application_1675115742341_0002/\" class=\"emr-proxy-link\" emr-resource=\"j-3H4582XMBPCDQ\n",
       "\" application-id=\"application_1675115742341_0002\">Link</a></td><td><a target=\"_blank\" href=\"http://ip-172-31-20-164.ec2.internal:8042/node/containerlogs/container_1675115742341_0002_01_000001/livy\" >Link</a></td><td>✔</td></tr></table>"
      ],
      "text/plain": [
       "<IPython.core.display.HTML object>"
      ]
     },
     "metadata": {},
     "output_type": "display_data"
    },
    {
     "data": {
      "application/vnd.jupyter.widget-view+json": {
       "model_id": "",
       "version_major": 2,
       "version_minor": 0
      },
      "text/plain": [
       "FloatProgress(value=0.0, bar_style='info', description='Progress:', layout=Layout(height='25px', width='50%'),…"
      ]
     },
     "metadata": {},
     "output_type": "display_data"
    },
    {
     "name": "stdout",
     "output_type": "stream",
     "text": [
      "SparkSession available as 'spark'.\n"
     ]
    },
    {
     "data": {
      "application/vnd.jupyter.widget-view+json": {
       "model_id": "",
       "version_major": 2,
       "version_minor": 0
      },
      "text/plain": [
       "FloatProgress(value=0.0, bar_style='info', description='Progress:', layout=Layout(height='25px', width='50%'),…"
      ]
     },
     "metadata": {},
     "output_type": "display_data"
    }
   ],
   "source": [
    "from pyspark.sql import SparkSession\n",
    "from pyspark.sql import functions as f\n",
    "\n",
    "spark = (\n",
    "    SparkSession.builder.appName(\"ExerciseSpark\")\n",
    "    .getOrCreate()\n",
    ")\n",
    "\n"
   ]
  },
  {
   "cell_type": "code",
   "execution_count": 2,
   "id": "6bc0e5bf-3ac1-46a3-8673-264c684439b2",
   "metadata": {
    "execution": {
     "iopub.execute_input": "2023-01-30T22:14:20.563691Z",
     "iopub.status.busy": "2023-01-30T22:14:20.563461Z",
     "iopub.status.idle": "2023-01-30T22:19:15.092914Z",
     "shell.execute_reply": "2023-01-30T22:19:15.092105Z",
     "shell.execute_reply.started": "2023-01-30T22:14:20.563664Z"
    }
   },
   "outputs": [
    {
     "data": {
      "application/vnd.jupyter.widget-view+json": {
       "model_id": "fbc8c769bf2e42318f399b7a6032cc5a",
       "version_major": 2,
       "version_minor": 0
      },
      "text/plain": [
       "VBox()"
      ]
     },
     "metadata": {},
     "output_type": "display_data"
    },
    {
     "data": {
      "application/vnd.jupyter.widget-view+json": {
       "model_id": "",
       "version_major": 2,
       "version_minor": 0
      },
      "text/plain": [
       "FloatProgress(value=0.0, bar_style='info', description='Progress:', layout=Layout(height='25px', width='50%'),…"
      ]
     },
     "metadata": {},
     "output_type": "display_data"
    }
   ],
   "source": [
    "path = \"s3://datalake-kramer-edc-tf-producao-401868797180/raw/\"\n",
    "rais = (\n",
    "    spark.read\n",
    "    .csv(path, inferSchema=True, header=True, sep=';', encoding=\"latin1\")\n",
    ")"
   ]
  },
  {
   "cell_type": "code",
   "execution_count": 3,
   "id": "cc3ff852-b39a-4d18-aa02-8d31dafd3e6e",
   "metadata": {
    "execution": {
     "iopub.execute_input": "2023-01-30T22:19:43.165669Z",
     "iopub.status.busy": "2023-01-30T22:19:43.165313Z",
     "iopub.status.idle": "2023-01-30T22:19:43.435449Z",
     "shell.execute_reply": "2023-01-30T22:19:43.434865Z",
     "shell.execute_reply.started": "2023-01-30T22:19:43.165640Z"
    }
   },
   "outputs": [
    {
     "data": {
      "application/vnd.jupyter.widget-view+json": {
       "model_id": "be3274c1b761428cb8c77d708c92912a",
       "version_major": 2,
       "version_minor": 0
      },
      "text/plain": [
       "VBox()"
      ]
     },
     "metadata": {},
     "output_type": "display_data"
    },
    {
     "data": {
      "application/vnd.jupyter.widget-view+json": {
       "model_id": "",
       "version_major": 2,
       "version_minor": 0
      },
      "text/plain": [
       "FloatProgress(value=0.0, bar_style='info', description='Progress:', layout=Layout(height='25px', width='50%'),…"
      ]
     },
     "metadata": {},
     "output_type": "display_data"
    },
    {
     "name": "stdout",
     "output_type": "stream",
     "text": [
      "root\n",
      " |-- Bairros SP: string (nullable = true)\n",
      " |-- Bairros Fortaleza: string (nullable = true)\n",
      " |-- Bairros RJ: string (nullable = true)\n",
      " |-- Causa Afastamento 1: integer (nullable = true)\n",
      " |-- Causa Afastamento 2: integer (nullable = true)\n",
      " |-- Causa Afastamento 3: integer (nullable = true)\n",
      " |-- Motivo Desligamento: integer (nullable = true)\n",
      " |-- CBO Ocupação 2002: string (nullable = true)\n",
      " |-- CNAE 2.0 Classe: integer (nullable = true)\n",
      " |-- CNAE 95 Classe: integer (nullable = true)\n",
      " |-- Distritos SP: string (nullable = true)\n",
      " |-- Vínculo Ativo 31/12: integer (nullable = true)\n",
      " |-- Faixa Etária: integer (nullable = true)\n",
      " |-- Faixa Hora Contrat: integer (nullable = true)\n",
      " |-- Faixa Remun Dezem (SM): integer (nullable = true)\n",
      " |-- Faixa Remun Média (SM): integer (nullable = true)\n",
      " |-- Faixa Tempo Emprego: integer (nullable = true)\n",
      " |-- Escolaridade após 2005: double (nullable = true)\n",
      " |-- Qtd Hora Contr: double (nullable = true)\n",
      " |-- Idade: double (nullable = true)\n",
      " |-- Ind CEI Vinculado: integer (nullable = true)\n",
      " |-- Ind Simples: integer (nullable = true)\n",
      " |-- Mês Admissão: integer (nullable = true)\n",
      " |-- Mês Desligamento: string (nullable = true)\n",
      " |-- Mun Trab: integer (nullable = true)\n",
      " |-- Município: integer (nullable = true)\n",
      " |-- Nacionalidade: integer (nullable = true)\n",
      " |-- Natureza Jurídica: integer (nullable = true)\n",
      " |-- Ind Portador Defic: integer (nullable = true)\n",
      " |-- Qtd Dias Afastamento: double (nullable = true)\n",
      " |-- Raça Cor: integer (nullable = true)\n",
      " |-- Regiões Adm DF: integer (nullable = true)\n",
      " |-- Vl Remun Dezembro Nom: string (nullable = true)\n",
      " |-- Vl Remun Dezembro (SM): string (nullable = true)\n",
      " |-- Vl Remun Média Nom: string (nullable = true)\n",
      " |-- Vl Remun Média (SM): string (nullable = true)\n",
      " |-- CNAE 2.0 Subclasse: integer (nullable = true)\n",
      " |-- Sexo Trabalhador: double (nullable = true)\n",
      " |-- Tamanho Estabelecimento: integer (nullable = true)\n",
      " |-- Tempo Emprego: string (nullable = true)\n",
      " |-- Tipo Admissão: integer (nullable = true)\n",
      " |-- Tipo Estab41: integer (nullable = true)\n",
      " |-- Tipo Estab42: string (nullable = true)\n",
      " |-- Tipo Defic: integer (nullable = true)\n",
      " |-- Tipo Vínculo: integer (nullable = true)\n",
      " |-- IBGE Subsetor: integer (nullable = true)\n",
      " |-- Vl Rem Janeiro SC: string (nullable = true)\n",
      " |-- Vl Rem Fevereiro SC: string (nullable = true)\n",
      " |-- Vl Rem Março SC: string (nullable = true)\n",
      " |-- Vl Rem Abril SC: string (nullable = true)\n",
      " |-- Vl Rem Maio SC: string (nullable = true)\n",
      " |-- Vl Rem Junho SC: string (nullable = true)\n",
      " |-- Vl Rem Julho SC: string (nullable = true)\n",
      " |-- Vl Rem Agosto SC: string (nullable = true)\n",
      " |-- Vl Rem Setembro SC: string (nullable = true)\n",
      " |-- Vl Rem Outubro SC: string (nullable = true)\n",
      " |-- Vl Rem Novembro SC: string (nullable = true)\n",
      " |-- Ano Chegada Brasil: integer (nullable = true)\n",
      " |-- Ind Trab Intermitente: integer (nullable = true)\n",
      " |-- Ind Trab Parcial: integer (nullable = true)\n",
      "\n",
      "None"
     ]
    }
   ],
   "source": [
    "print(rais.printSchema())"
   ]
  },
  {
   "cell_type": "code",
   "execution_count": 4,
   "id": "77ba21d1-67de-4520-a4b1-f68d68d79182",
   "metadata": {
    "execution": {
     "iopub.execute_input": "2023-01-30T22:19:50.598607Z",
     "iopub.status.busy": "2023-01-30T22:19:50.598384Z",
     "iopub.status.idle": "2023-01-30T22:19:51.903947Z",
     "shell.execute_reply": "2023-01-30T22:19:51.903307Z",
     "shell.execute_reply.started": "2023-01-30T22:19:50.598583Z"
    }
   },
   "outputs": [
    {
     "data": {
      "application/vnd.jupyter.widget-view+json": {
       "model_id": "7d1fc766186e482e9c6c1e815978e491",
       "version_major": 2,
       "version_minor": 0
      },
      "text/plain": [
       "VBox()"
      ]
     },
     "metadata": {},
     "output_type": "display_data"
    },
    {
     "data": {
      "application/vnd.jupyter.widget-view+json": {
       "model_id": "",
       "version_major": 2,
       "version_minor": 0
      },
      "text/plain": [
       "FloatProgress(value=0.0, bar_style='info', description='Progress:', layout=Layout(height='25px', width='50%'),…"
      ]
     },
     "metadata": {},
     "output_type": "display_data"
    }
   ],
   "source": [
    "rais = (\n",
    "    rais\n",
    "    .withColumnRenamed('Bairros SP', 'bairros_sp')\n",
    "    .withColumnRenamed('Bairros Fortaleza', 'bairros_fortaleza')\n",
    "    .withColumnRenamed('Bairros RJ', 'bairros_rj')\n",
    "    .withColumnRenamed('Causa Afastamento 1', 'causa_afastamento_1')\n",
    "    .withColumnRenamed('Causa Afastamento 2', 'causa_afastamento_2')\n",
    "    .withColumnRenamed('Causa Afastamento 3', 'causa_afastamento_3')\n",
    "    .withColumnRenamed('Motivo Desligamento', 'motivo_desligamento')\n",
    "    .withColumnRenamed(rais.columns[7], 'cbo_ocupacao_2002')\n",
    "    .withColumnRenamed('CNAE 2.0 Classe', 'cnae_2_0_classe')\n",
    "    .withColumnRenamed('CNAE 95 Classe', 'cnae_95_classe')\n",
    "    .withColumnRenamed('Distritos SP', 'distritos_sp')\n",
    "    .withColumnRenamed(rais.columns[11], 'vinculo_ativo_31_12')\n",
    "    .withColumnRenamed(rais.columns[12], 'faixa_etaria')\n",
    "    .withColumnRenamed('Faixa Hora Contrat', 'faixa_hora_contrat')\n",
    "    .withColumnRenamed('Faixa Remun Dezem (SM)', 'faixa_remun_dezem_sm')\n",
    "    .withColumnRenamed(rais.columns[15], 'faixa_remun_media_sm')\n",
    "    .withColumnRenamed('Faixa Tempo Emprego', 'faixa_tempo_emprego')\n",
    "    .withColumnRenamed(rais.columns[17], 'escolaridade_apos_2005')\n",
    "    .withColumnRenamed('Qtd Hora Contr', 'qtd_hora_contr')\n",
    "    .withColumnRenamed('Idade', 'idade')\n",
    "    .withColumnRenamed('Ind CEI Vinculado', 'ind_cei_vinculado')\n",
    "    .withColumnRenamed('Ind Simples', 'ind_simples')\n",
    "    .withColumnRenamed(rais.columns[22], 'mes_admissao')\n",
    "    .withColumnRenamed(rais.columns[23], 'mes_desligamento')\n",
    "    .withColumnRenamed('Mun Trab', 'mun_trab')\n",
    "    .withColumnRenamed(rais.columns[25], 'municipio')\n",
    "    .withColumnRenamed('Nacionalidade', 'nacionalidade')\n",
    "    .withColumnRenamed(rais.columns[27], 'natureza_juridica')\n",
    "    .withColumnRenamed('Ind Portador Defic', 'ind_portador_defic')\n",
    "    .withColumnRenamed('Qtd Dias Afastamento', 'qtd_dias_afastamento')\n",
    "    .withColumnRenamed(rais.columns[30], 'raca_cor')\n",
    "    .withColumnRenamed(rais.columns[31], 'regioes_adm_df')\n",
    "    .withColumnRenamed('Vl Remun Dezembro Nom', 'vl_remun_dezembro_nom')\n",
    "    .withColumnRenamed('Vl Remun Dezembro (SM)', 'vl_remun_dezembro_sm')\n",
    "    .withColumnRenamed(rais.columns[34], 'vl_remun_media_nom')\n",
    "    .withColumnRenamed(rais.columns[35], 'vl_remun_media_sm')\n",
    "    .withColumnRenamed('CNAE 2.0 Subclasse', 'cnae_2_0_subclasse')\n",
    "    .withColumnRenamed('Sexo Trabalhador', 'sexo_trabalhador')\n",
    "    .withColumnRenamed('Tamanho Estabelecimento', 'tamanho_estabelecimento')\n",
    "    .withColumnRenamed('Tempo Emprego', 'tempo_emprego')\n",
    "    .withColumnRenamed(rais.columns[40], 'tipo_admissao')\n",
    "    .withColumnRenamed('Tipo Estab41', 'tipo_estab41')\n",
    "    .withColumnRenamed('Tipo Estab42', 'tipo_estab42')\n",
    "    .withColumnRenamed('Tipo Defic', 'tipo_defic')\n",
    "    .withColumnRenamed(rais.columns[44], 'tipo_vinculo')\n",
    "    .withColumnRenamed('IBGE Subsetor', 'ibge_subsetor')\n",
    "    .withColumnRenamed('Vl Rem Janeiro SC', 'vl_rem_janeiro_sc')\n",
    "    .withColumnRenamed('Vl Rem Fevereiro SC', 'vl_rem_fevereiro_sc')\n",
    "    .withColumnRenamed(rais.columns[48], 'vl_rem_marco_sc')\n",
    "    .withColumnRenamed('Vl Rem Abril SC', 'vl_rem_abril_sc')\n",
    "    .withColumnRenamed('Vl Rem Maio SC', 'vl_rem_maio_sc')\n",
    "    .withColumnRenamed('Vl Rem Junho SC', 'vl_rem_junho_sc')\n",
    "    .withColumnRenamed('Vl Rem Julho SC', 'vl_rem_julho_sc')\n",
    "    .withColumnRenamed('Vl Rem Agosto SC', 'vl_rem_agosto_sc')\n",
    "    .withColumnRenamed('Vl Rem Setembro SC', 'vl_rem_setembro_sc')\n",
    "    .withColumnRenamed('Vl Rem Outubro SC', 'vl_rem_outubro_sc')\n",
    "    .withColumnRenamed('Vl Rem Novembro SC', 'vl_rem_novembro_sc')\n",
    "    .withColumnRenamed('Ano Chegada Brasil', 'ano_chegada_brasil')\n",
    "    .withColumnRenamed('Ind Trab Intermitente', 'ind_trab_intermitente')\n",
    "    .withColumnRenamed('Ind Trab Parcial', 'ind_trab_parcial')\n",
    ")"
   ]
  },
  {
   "cell_type": "code",
   "execution_count": 5,
   "id": "4bf904f6-f159-4b7e-aee1-c4cc839e4778",
   "metadata": {
    "execution": {
     "iopub.execute_input": "2023-01-30T22:19:57.008262Z",
     "iopub.status.busy": "2023-01-30T22:19:57.008033Z",
     "iopub.status.idle": "2023-01-30T22:19:57.066782Z",
     "shell.execute_reply": "2023-01-30T22:19:57.066050Z",
     "shell.execute_reply.started": "2023-01-30T22:19:57.008236Z"
    }
   },
   "outputs": [
    {
     "data": {
      "application/vnd.jupyter.widget-view+json": {
       "model_id": "6125a3a61c5b40738082c6fb11b6c736",
       "version_major": 2,
       "version_minor": 0
      },
      "text/plain": [
       "VBox()"
      ]
     },
     "metadata": {},
     "output_type": "display_data"
    },
    {
     "data": {
      "application/vnd.jupyter.widget-view+json": {
       "model_id": "",
       "version_major": 2,
       "version_minor": 0
      },
      "text/plain": [
       "FloatProgress(value=0.0, bar_style='info', description='Progress:', layout=Layout(height='25px', width='50%'),…"
      ]
     },
     "metadata": {},
     "output_type": "display_data"
    },
    {
     "name": "stdout",
     "output_type": "stream",
     "text": [
      "root\n",
      " |-- bairros_sp: string (nullable = true)\n",
      " |-- bairros_fortaleza: string (nullable = true)\n",
      " |-- bairros_rj: string (nullable = true)\n",
      " |-- causa_afastamento_1: integer (nullable = true)\n",
      " |-- causa_afastamento_2: integer (nullable = true)\n",
      " |-- causa_afastamento_3: integer (nullable = true)\n",
      " |-- motivo_desligamento: integer (nullable = true)\n",
      " |-- cbo_ocupacao_2002: string (nullable = true)\n",
      " |-- cnae_2_0_classe: integer (nullable = true)\n",
      " |-- cnae_95_classe: integer (nullable = true)\n",
      " |-- distritos_sp: string (nullable = true)\n",
      " |-- vinculo_ativo_31_12: integer (nullable = true)\n",
      " |-- faixa_etaria: integer (nullable = true)\n",
      " |-- faixa_hora_contrat: integer (nullable = true)\n",
      " |-- faixa_remun_dezem_sm: integer (nullable = true)\n",
      " |-- faixa_remun_media_sm: integer (nullable = true)\n",
      " |-- faixa_tempo_emprego: integer (nullable = true)\n",
      " |-- escolaridade_apos_2005: double (nullable = true)\n",
      " |-- qtd_hora_contr: double (nullable = true)\n",
      " |-- idade: double (nullable = true)\n",
      " |-- ind_cei_vinculado: integer (nullable = true)\n",
      " |-- ind_simples: integer (nullable = true)\n",
      " |-- mes_admissao: integer (nullable = true)\n",
      " |-- mes_desligamento: string (nullable = true)\n",
      " |-- mun_trab: integer (nullable = true)\n",
      " |-- municipio: integer (nullable = true)\n",
      " |-- nacionalidade: integer (nullable = true)\n",
      " |-- natureza_juridica: integer (nullable = true)\n",
      " |-- ind_portador_defic: integer (nullable = true)\n",
      " |-- qtd_dias_afastamento: double (nullable = true)\n",
      " |-- raca_cor: integer (nullable = true)\n",
      " |-- regioes_adm_df: integer (nullable = true)\n",
      " |-- vl_remun_dezembro_nom: string (nullable = true)\n",
      " |-- vl_remun_dezembro_sm: string (nullable = true)\n",
      " |-- vl_remun_media_nom: string (nullable = true)\n",
      " |-- vl_remun_media_sm: string (nullable = true)\n",
      " |-- cnae_2_0_subclasse: integer (nullable = true)\n",
      " |-- sexo_trabalhador: double (nullable = true)\n",
      " |-- tamanho_estabelecimento: integer (nullable = true)\n",
      " |-- tempo_emprego: string (nullable = true)\n",
      " |-- tipo_admissao: integer (nullable = true)\n",
      " |-- tipo_estab41: integer (nullable = true)\n",
      " |-- tipo_estab42: string (nullable = true)\n",
      " |-- tipo_defic: integer (nullable = true)\n",
      " |-- tipo_vinculo: integer (nullable = true)\n",
      " |-- ibge_subsetor: integer (nullable = true)\n",
      " |-- vl_rem_janeiro_sc: string (nullable = true)\n",
      " |-- vl_rem_fevereiro_sc: string (nullable = true)\n",
      " |-- vl_rem_marco_sc: string (nullable = true)\n",
      " |-- vl_rem_abril_sc: string (nullable = true)\n",
      " |-- vl_rem_maio_sc: string (nullable = true)\n",
      " |-- vl_rem_junho_sc: string (nullable = true)\n",
      " |-- vl_rem_julho_sc: string (nullable = true)\n",
      " |-- vl_rem_agosto_sc: string (nullable = true)\n",
      " |-- vl_rem_setembro_sc: string (nullable = true)\n",
      " |-- vl_rem_outubro_sc: string (nullable = true)\n",
      " |-- vl_rem_novembro_sc: string (nullable = true)\n",
      " |-- ano_chegada_brasil: integer (nullable = true)\n",
      " |-- ind_trab_intermitente: integer (nullable = true)\n",
      " |-- ind_trab_parcial: integer (nullable = true)\n",
      "\n",
      "None"
     ]
    }
   ],
   "source": [
    "print(rais.printSchema())"
   ]
  },
  {
   "cell_type": "code",
   "execution_count": 6,
   "id": "a054bfdf-0fe1-471f-a406-f276003939a0",
   "metadata": {
    "execution": {
     "iopub.execute_input": "2023-01-30T22:20:10.256053Z",
     "iopub.status.busy": "2023-01-30T22:20:10.255833Z",
     "iopub.status.idle": "2023-01-30T22:20:12.535191Z",
     "shell.execute_reply": "2023-01-30T22:20:12.534488Z",
     "shell.execute_reply.started": "2023-01-30T22:20:10.256029Z"
    }
   },
   "outputs": [
    {
     "data": {
      "application/vnd.jupyter.widget-view+json": {
       "model_id": "0e95a0119eee4b9b8ec04e9c794a5a39",
       "version_major": 2,
       "version_minor": 0
      },
      "text/plain": [
       "VBox()"
      ]
     },
     "metadata": {},
     "output_type": "display_data"
    },
    {
     "data": {
      "application/vnd.jupyter.widget-view+json": {
       "model_id": "",
       "version_major": 2,
       "version_minor": 0
      },
      "text/plain": [
       "FloatProgress(value=0.0, bar_style='info', description='Progress:', layout=Layout(height='25px', width='50%'),…"
      ]
     },
     "metadata": {},
     "output_type": "display_data"
    },
    {
     "name": "stdout",
     "output_type": "stream",
     "text": [
      "+-------------+\n",
      "|ibge_subsetor|\n",
      "+-------------+\n",
      "|           21|\n",
      "|           15|\n",
      "|           21|\n",
      "|           15|\n",
      "|           14|\n",
      "|           16|\n",
      "|           20|\n",
      "|           17|\n",
      "|           13|\n",
      "|           21|\n",
      "+-------------+"
     ]
    }
   ],
   "source": [
    "rais.select('ibge_subsetor').limit(10).show()"
   ]
  },
  {
   "cell_type": "code",
   "execution_count": 7,
   "id": "71dd2024-b542-4c68-9fb7-212bbda9eabc",
   "metadata": {
    "execution": {
     "iopub.execute_input": "2023-01-30T22:20:16.494973Z",
     "iopub.status.busy": "2023-01-30T22:20:16.494742Z",
     "iopub.status.idle": "2023-01-30T22:20:17.271473Z",
     "shell.execute_reply": "2023-01-30T22:20:17.270743Z",
     "shell.execute_reply.started": "2023-01-30T22:20:16.494947Z"
    }
   },
   "outputs": [
    {
     "data": {
      "application/vnd.jupyter.widget-view+json": {
       "model_id": "a03cf3729dc4405aa6dd7ba26a7bac41",
       "version_major": 2,
       "version_minor": 0
      },
      "text/plain": [
       "VBox()"
      ]
     },
     "metadata": {},
     "output_type": "display_data"
    },
    {
     "data": {
      "application/vnd.jupyter.widget-view+json": {
       "model_id": "",
       "version_major": 2,
       "version_minor": 0
      },
      "text/plain": [
       "FloatProgress(value=0.0, bar_style='info', description='Progress:', layout=Layout(height='25px', width='50%'),…"
      ]
     },
     "metadata": {},
     "output_type": "display_data"
    },
    {
     "name": "stdout",
     "output_type": "stream",
     "text": [
      "6"
     ]
    }
   ],
   "source": [
    "rais.rdd.getNumPartitions()"
   ]
  },
  {
   "cell_type": "code",
   "execution_count": 8,
   "id": "a0e516b9-74f4-4e86-bb92-0c6a43bff0da",
   "metadata": {
    "execution": {
     "iopub.execute_input": "2023-01-30T22:20:20.431863Z",
     "iopub.status.busy": "2023-01-30T22:20:20.431636Z",
     "iopub.status.idle": "2023-01-30T22:20:20.490226Z",
     "shell.execute_reply": "2023-01-30T22:20:20.489650Z",
     "shell.execute_reply.started": "2023-01-30T22:20:20.431839Z"
    }
   },
   "outputs": [
    {
     "data": {
      "application/vnd.jupyter.widget-view+json": {
       "model_id": "85f680d5addd40ba9323d02d55fcb191",
       "version_major": 2,
       "version_minor": 0
      },
      "text/plain": [
       "VBox()"
      ]
     },
     "metadata": {},
     "output_type": "display_data"
    },
    {
     "data": {
      "application/vnd.jupyter.widget-view+json": {
       "model_id": "",
       "version_major": 2,
       "version_minor": 0
      },
      "text/plain": [
       "FloatProgress(value=0.0, bar_style='info', description='Progress:', layout=Layout(height='25px', width='50%'),…"
      ]
     },
     "metadata": {},
     "output_type": "display_data"
    }
   ],
   "source": [
    "from py4j.java_gateway import java_import\n",
    "java_import(spark._sc._jvm, \"org.apache.spark.sql.api.python.*\")"
   ]
  },
  {
   "cell_type": "code",
   "execution_count": 17,
   "id": "f4a7744a-4392-4597-aa99-381fdf210d7c",
   "metadata": {
    "execution": {
     "iopub.execute_input": "2023-01-30T22:38:01.390203Z",
     "iopub.status.busy": "2023-01-30T22:38:01.389969Z",
     "iopub.status.idle": "2023-01-30T22:38:01.645767Z",
     "shell.execute_reply": "2023-01-30T22:38:01.645033Z",
     "shell.execute_reply.started": "2023-01-30T22:38:01.390176Z"
    },
    "tags": []
   },
   "outputs": [
    {
     "data": {
      "application/vnd.jupyter.widget-view+json": {
       "model_id": "2d7fce3ce6af4f77b6ac6954a8b95aea",
       "version_major": 2,
       "version_minor": 0
      },
      "text/plain": [
       "VBox()"
      ]
     },
     "metadata": {},
     "output_type": "display_data"
    },
    {
     "data": {
      "application/vnd.jupyter.widget-view+json": {
       "model_id": "",
       "version_major": 2,
       "version_minor": 0
      },
      "text/plain": [
       "FloatProgress(value=0.0, bar_style='info', description='Progress:', layout=Layout(height='25px', width='50%'),…"
      ]
     },
     "metadata": {},
     "output_type": "display_data"
    }
   ],
   "source": [
    "rais = rais.withColumn(\"uf\", f.col(\"municipio\").cast('string').substr(1,2).cast('int'))\n",
    "rais = rais.withColumn(\"ano\", f.lit(\"2020\").cast('int'))"
   ]
  },
  {
   "cell_type": "code",
   "execution_count": 18,
   "id": "55d69756-645c-4352-af11-38f842216cec",
   "metadata": {
    "execution": {
     "iopub.execute_input": "2023-01-30T22:38:04.141687Z",
     "iopub.status.busy": "2023-01-30T22:38:04.141455Z",
     "iopub.status.idle": "2023-01-30T22:38:04.192847Z",
     "shell.execute_reply": "2023-01-30T22:38:04.192179Z",
     "shell.execute_reply.started": "2023-01-30T22:38:04.141662Z"
    },
    "tags": []
   },
   "outputs": [
    {
     "data": {
      "application/vnd.jupyter.widget-view+json": {
       "model_id": "246725aaf4e8486184f0aeff502994a8",
       "version_major": 2,
       "version_minor": 0
      },
      "text/plain": [
       "VBox()"
      ]
     },
     "metadata": {},
     "output_type": "display_data"
    },
    {
     "data": {
      "application/vnd.jupyter.widget-view+json": {
       "model_id": "",
       "version_major": 2,
       "version_minor": 0
      },
      "text/plain": [
       "FloatProgress(value=0.0, bar_style='info', description='Progress:', layout=Layout(height='25px', width='50%'),…"
      ]
     },
     "metadata": {},
     "output_type": "display_data"
    },
    {
     "name": "stdout",
     "output_type": "stream",
     "text": [
      "root\n",
      " |-- bairros_sp: string (nullable = true)\n",
      " |-- bairros_fortaleza: string (nullable = true)\n",
      " |-- bairros_rj: string (nullable = true)\n",
      " |-- causa_afastamento_1: integer (nullable = true)\n",
      " |-- causa_afastamento_2: integer (nullable = true)\n",
      " |-- causa_afastamento_3: integer (nullable = true)\n",
      " |-- motivo_desligamento: integer (nullable = true)\n",
      " |-- cbo_ocupacao_2002: string (nullable = true)\n",
      " |-- cnae_2_0_classe: integer (nullable = true)\n",
      " |-- cnae_95_classe: integer (nullable = true)\n",
      " |-- distritos_sp: string (nullable = true)\n",
      " |-- vinculo_ativo_31_12: integer (nullable = true)\n",
      " |-- faixa_etaria: integer (nullable = true)\n",
      " |-- faixa_hora_contrat: integer (nullable = true)\n",
      " |-- faixa_remun_dezem_sm: integer (nullable = true)\n",
      " |-- faixa_remun_media_sm: integer (nullable = true)\n",
      " |-- faixa_tempo_emprego: integer (nullable = true)\n",
      " |-- escolaridade_apos_2005: double (nullable = true)\n",
      " |-- qtd_hora_contr: double (nullable = true)\n",
      " |-- idade: double (nullable = true)\n",
      " |-- ind_cei_vinculado: integer (nullable = true)\n",
      " |-- ind_simples: integer (nullable = true)\n",
      " |-- mes_admissao: integer (nullable = true)\n",
      " |-- mes_desligamento: integer (nullable = true)\n",
      " |-- mun_trab: integer (nullable = true)\n",
      " |-- municipio: integer (nullable = true)\n",
      " |-- nacionalidade: integer (nullable = true)\n",
      " |-- natureza_juridica: integer (nullable = true)\n",
      " |-- ind_portador_defic: integer (nullable = true)\n",
      " |-- qtd_dias_afastamento: double (nullable = true)\n",
      " |-- raca_cor: integer (nullable = true)\n",
      " |-- regioes_adm_df: integer (nullable = true)\n",
      " |-- vl_remun_dezembro_nom: double (nullable = true)\n",
      " |-- vl_remun_dezembro_sm: double (nullable = true)\n",
      " |-- vl_remun_media_nom: double (nullable = true)\n",
      " |-- vl_remun_media_sm: double (nullable = true)\n",
      " |-- cnae_2_0_subclasse: integer (nullable = true)\n",
      " |-- sexo_trabalhador: double (nullable = true)\n",
      " |-- tamanho_estabelecimento: integer (nullable = true)\n",
      " |-- tempo_emprego: string (nullable = true)\n",
      " |-- tipo_admissao: integer (nullable = true)\n",
      " |-- tipo_estab41: integer (nullable = true)\n",
      " |-- tipo_estab42: string (nullable = true)\n",
      " |-- tipo_defic: integer (nullable = true)\n",
      " |-- tipo_vinculo: integer (nullable = true)\n",
      " |-- ibge_subsetor: integer (nullable = true)\n",
      " |-- vl_rem_janeiro_sc: double (nullable = true)\n",
      " |-- vl_rem_fevereiro_sc: double (nullable = true)\n",
      " |-- vl_rem_marco_sc: double (nullable = true)\n",
      " |-- vl_rem_abril_sc: double (nullable = true)\n",
      " |-- vl_rem_maio_sc: double (nullable = true)\n",
      " |-- vl_rem_junho_sc: double (nullable = true)\n",
      " |-- vl_rem_julho_sc: double (nullable = true)\n",
      " |-- vl_rem_agosto_sc: double (nullable = true)\n",
      " |-- vl_rem_setembro_sc: double (nullable = true)\n",
      " |-- vl_rem_outubro_sc: double (nullable = true)\n",
      " |-- vl_rem_novembro_sc: double (nullable = true)\n",
      " |-- ano_chegada_brasil: integer (nullable = true)\n",
      " |-- ind_trab_intermitente: integer (nullable = true)\n",
      " |-- ind_trab_parcial: integer (nullable = true)\n",
      " |-- uf: integer (nullable = true)\n",
      " |-- ano: integer (nullable = true)"
     ]
    }
   ],
   "source": [
    "rais.printSchema()"
   ]
  },
  {
   "cell_type": "code",
   "execution_count": 11,
   "id": "086c3749-b680-4fda-b3a7-a4e1a4adb87e",
   "metadata": {
    "execution": {
     "iopub.execute_input": "2023-01-30T22:20:34.058682Z",
     "iopub.status.busy": "2023-01-30T22:20:34.058462Z",
     "iopub.status.idle": "2023-01-30T22:20:34.826298Z",
     "shell.execute_reply": "2023-01-30T22:20:34.825690Z",
     "shell.execute_reply.started": "2023-01-30T22:20:34.058658Z"
    }
   },
   "outputs": [
    {
     "data": {
      "application/vnd.jupyter.widget-view+json": {
       "model_id": "7df11197ee544795b7f50c1429fe64b2",
       "version_major": 2,
       "version_minor": 0
      },
      "text/plain": [
       "VBox()"
      ]
     },
     "metadata": {},
     "output_type": "display_data"
    },
    {
     "data": {
      "application/vnd.jupyter.widget-view+json": {
       "model_id": "",
       "version_major": 2,
       "version_minor": 0
      },
      "text/plain": [
       "FloatProgress(value=0.0, bar_style='info', description='Progress:', layout=Layout(height='25px', width='50%'),…"
      ]
     },
     "metadata": {},
     "output_type": "display_data"
    },
    {
     "name": "stdout",
     "output_type": "stream",
     "text": [
      "+----------------+\n",
      "|mes_desligamento|\n",
      "+----------------+\n",
      "|              08|\n",
      "|              09|\n",
      "|              01|\n",
      "|              07|\n",
      "|              11|\n",
      "|              01|\n",
      "|              11|\n",
      "|              04|\n",
      "|              12|\n",
      "|              04|\n",
      "+----------------+\n",
      "only showing top 10 rows"
     ]
    }
   ],
   "source": [
    "rais.select(\n",
    "    'mes_desligamento'\n",
    ").show(10)"
   ]
  },
  {
   "cell_type": "code",
   "execution_count": 19,
   "id": "7fd80091-a67e-4935-9aa4-a691cfb1fb53",
   "metadata": {
    "execution": {
     "iopub.execute_input": "2023-01-30T22:38:40.169615Z",
     "iopub.status.busy": "2023-01-30T22:38:40.169378Z",
     "iopub.status.idle": "2023-01-30T22:38:40.939661Z",
     "shell.execute_reply": "2023-01-30T22:38:40.939026Z",
     "shell.execute_reply.started": "2023-01-30T22:38:40.169589Z"
    },
    "tags": []
   },
   "outputs": [
    {
     "data": {
      "application/vnd.jupyter.widget-view+json": {
       "model_id": "9285bd76a4574e19adbb9a85e874d8e9",
       "version_major": 2,
       "version_minor": 0
      },
      "text/plain": [
       "VBox()"
      ]
     },
     "metadata": {},
     "output_type": "display_data"
    },
    {
     "data": {
      "application/vnd.jupyter.widget-view+json": {
       "model_id": "",
       "version_major": 2,
       "version_minor": 0
      },
      "text/plain": [
       "FloatProgress(value=0.0, bar_style='info', description='Progress:', layout=Layout(height='25px', width='50%'),…"
      ]
     },
     "metadata": {},
     "output_type": "display_data"
    }
   ],
   "source": [
    "rais = (\n",
    "    rais\n",
    "    .withColumn(\"mes_desligamento\", f.col('mes_desligamento').cast('int'))\n",
    "    .withColumn(\"vl_remun_dezembro_nom\", f.regexp_replace(\"vl_remun_dezembro_nom\", ',', '.').cast('double'))\n",
    "    .withColumn(\"vl_remun_dezembro_sm\", f.regexp_replace(\"vl_remun_dezembro_sm\", ',', '.').cast('double'))\n",
    "    .withColumn(\"vl_remun_media_nom\", f.regexp_replace(\"vl_remun_media_nom\", ',', '.').cast('double'))\n",
    "    .withColumn(\"vl_remun_media_sm\", f.regexp_replace(\"vl_remun_media_sm\", ',', '.').cast('double'))\n",
    "    .withColumn(\"vl_rem_janeiro_sc\", f.regexp_replace(\"vl_rem_janeiro_sc\", ',', '.').cast('double'))\n",
    "    .withColumn(\"vl_rem_fevereiro_sc\", f.regexp_replace(\"vl_rem_fevereiro_sc\", ',', '.').cast('double'))\n",
    "    .withColumn(\"vl_rem_marco_sc\", f.regexp_replace(\"vl_rem_marco_sc\", ',', '.').cast('double'))\n",
    "    .withColumn(\"vl_rem_abril_sc\", f.regexp_replace(\"vl_rem_abril_sc\", ',', '.').cast('double'))\n",
    "    .withColumn(\"vl_rem_maio_sc\", f.regexp_replace(\"vl_rem_maio_sc\", ',', '.').cast('double'))\n",
    "    .withColumn(\"vl_rem_junho_sc\", f.regexp_replace(\"vl_rem_junho_sc\", ',', '.').cast('double'))\n",
    "    .withColumn(\"vl_rem_julho_sc\", f.regexp_replace(\"vl_rem_julho_sc\", ',', '.').cast('double'))\n",
    "    .withColumn(\"vl_rem_agosto_sc\", f.regexp_replace(\"vl_rem_agosto_sc\", ',', '.').cast('double'))\n",
    "    .withColumn(\"vl_rem_setembro_sc\", f.regexp_replace(\"vl_rem_setembro_sc\", ',', '.').cast('double'))\n",
    "    .withColumn(\"vl_rem_outubro_sc\", f.regexp_replace(\"vl_rem_outubro_sc\", ',', '.').cast('double'))\n",
    "    .withColumn(\"vl_rem_novembro_sc\", f.regexp_replace(\"vl_rem_novembro_sc\", ',', '.').cast('double'))\n",
    ")"
   ]
  },
  {
   "cell_type": "code",
   "execution_count": 13,
   "id": "ee078623-1458-4cde-9659-7afc9c92a9f0",
   "metadata": {
    "execution": {
     "iopub.execute_input": "2023-01-30T22:20:55.018129Z",
     "iopub.status.busy": "2023-01-30T22:20:55.017896Z",
     "iopub.status.idle": "2023-01-30T22:22:10.556973Z",
     "shell.execute_reply": "2023-01-30T22:22:10.556217Z",
     "shell.execute_reply.started": "2023-01-30T22:20:55.018105Z"
    }
   },
   "outputs": [
    {
     "data": {
      "application/vnd.jupyter.widget-view+json": {
       "model_id": "0c1c7696f1804dbd84db5f21bea858dd",
       "version_major": 2,
       "version_minor": 0
      },
      "text/plain": [
       "VBox()"
      ]
     },
     "metadata": {},
     "output_type": "display_data"
    },
    {
     "data": {
      "application/vnd.jupyter.widget-view+json": {
       "model_id": "",
       "version_major": 2,
       "version_minor": 0
      },
      "text/plain": [
       "FloatProgress(value=0.0, bar_style='info', description='Progress:', layout=Layout(height='25px', width='50%'),…"
      ]
     },
     "metadata": {},
     "output_type": "display_data"
    },
    {
     "name": "stdout",
     "output_type": "stream",
     "text": [
      "+--------+\n",
      "|count(1)|\n",
      "+--------+\n",
      "|65921194|\n",
      "+--------+"
     ]
    }
   ],
   "source": [
    "rais.createOrReplaceTempView(\"tableA\")\n",
    "spark.sql(\"SELECT count(*) from tableA\").show()"
   ]
  },
  {
   "cell_type": "code",
   "execution_count": null,
   "id": "31f078d7-9254-4f8e-aa74-5b7bb174da5c",
   "metadata": {
    "execution": {
     "iopub.execute_input": "2023-01-30T22:38:48.148231Z",
     "iopub.status.busy": "2023-01-30T22:38:48.147995Z"
    },
    "tags": []
   },
   "outputs": [
    {
     "data": {
      "application/vnd.jupyter.widget-view+json": {
       "model_id": "71e7d0c5aa1948929de72aa1ea5cf256",
       "version_major": 2,
       "version_minor": 0
      },
      "text/plain": [
       "VBox()"
      ]
     },
     "metadata": {},
     "output_type": "display_data"
    },
    {
     "data": {
      "application/vnd.jupyter.widget-view+json": {
       "model_id": "e4e6c9f5f1ba4c29bf94d857985e69b4",
       "version_major": 2,
       "version_minor": 0
      },
      "text/plain": [
       "FloatProgress(value=0.0, bar_style='info', description='Progress:', layout=Layout(height='25px', width='50%'),…"
      ]
     },
     "metadata": {},
     "output_type": "display_data"
    }
   ],
   "source": [
    "(\n",
    "    rais\n",
    "    .write\n",
    "    .mode(\"overwrite\")\n",
    "    .format(\"parquet\")\n",
    "    .partitionBy('ano', 'uf')\n",
    "    .save(\"s3://datalake-kramer-edc-tf-producao-401868797180/stage/\")\n",
    ")"
   ]
  },
  {
   "cell_type": "code",
   "execution_count": null,
   "id": "3164dd3b-29a0-4600-b541-cddfe898429e",
   "metadata": {},
   "outputs": [],
   "source": []
  }
 ],
 "metadata": {
  "kernelspec": {
   "display_name": "PySpark",
   "language": "",
   "name": "pysparkkernel"
  },
  "language_info": {
   "codemirror_mode": {
    "name": "python",
    "version": 3
   },
   "mimetype": "text/x-python",
   "name": "pyspark",
   "pygments_lexer": "python3"
  }
 },
 "nbformat": 4,
 "nbformat_minor": 5
}
